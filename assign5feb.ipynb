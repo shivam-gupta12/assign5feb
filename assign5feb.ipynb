{
 "cells": [
  {
   "cell_type": "code",
   "execution_count": 1,
   "id": "f8a62127-b167-46d5-aad9-509a263e9fff",
   "metadata": {},
   "outputs": [],
   "source": [
    "#question 1\n",
    "#Classes are user-defined data types that act as the blueprint for individual objects, attributes and methods.\n",
    "#Objects are instances of a class created with specifically defined data. \n",
    "#Objects can correspond to real-world objects or an abstract entity. \n",
    "#When class is defined initially, the description is the only object that is defined.\n",
    "#example - dog can be the class and it can contains objects like breed, colour, name etc."
   ]
  },
  {
   "cell_type": "code",
   "execution_count": 2,
   "id": "016ef634-6ed5-4c84-9572-b048c8f76ccf",
   "metadata": {},
   "outputs": [],
   "source": [
    "#question2\n",
    "#the four pillars of OOPs are - Inheritance, Polymorphism, Encapsulation and Abstraction"
   ]
  },
  {
   "cell_type": "code",
   "execution_count": 3,
   "id": "c421963f-56cf-45bf-8941-e15eff0697bd",
   "metadata": {},
   "outputs": [
    {
     "name": "stdout",
     "output_type": "stream",
     "text": [
      "John\n",
      "36\n"
     ]
    }
   ],
   "source": [
    "#question3\n",
    "#\"__init__\" is a reseved method in python classes. It is called as a constructor in object oriented terminology. \n",
    "#This method is called when an object is created from a class and it allows the class to initialize the attributes of the class.\n",
    "\n",
    "class Person:\n",
    "  def __init__(self, name, age):\n",
    "    self.name = name\n",
    "    self.age = age\n",
    "\n",
    "p1 = Person(\"John\", 36)\n",
    "\n",
    "print(p1.name)\n",
    "print(p1.age)"
   ]
  },
  {
   "cell_type": "code",
   "execution_count": 4,
   "id": "047c2507-a82d-4204-8824-e1798a278451",
   "metadata": {},
   "outputs": [],
   "source": [
    "#The self variable is used to represent the instance of the class which is often used in object-oriented programming. \n",
    "#self is not a reserved keyword and is used to make the objects and methods point to the respective class.\n",
    "#It works as a reference to the object. Python uses the self parameter to refer to instance attributes and methods of the class."
   ]
  },
  {
   "cell_type": "code",
   "execution_count": 18,
   "id": "6a3cabdc-a43e-43d8-8ce4-175dbc8cf109",
   "metadata": {},
   "outputs": [],
   "source": [
    "#question 5 \n",
    "#Inheritance is a process of obtaining properties and characteristics(variables and methods) of another class. \n",
    "#In this hierarchical order, the class which inherits another class is called subclass or child class, and the other class is the parent class.\n",
    "\n",
    "\n",
    "#example--"
   ]
  },
  {
   "cell_type": "code",
   "execution_count": 11,
   "id": "91353e36-e644-4077-8f20-93a696fe0d22",
   "metadata": {},
   "outputs": [
    {
     "name": "stdout",
     "output_type": "stream",
     "text": [
      "Hey there, you are in the parent class\n",
      "Hey there, you are in the sub class\n",
      "Hey there, you are in the parent class\n",
      "10\n",
      "5\n"
     ]
    }
   ],
   "source": [
    "#single inheritance\n",
    "#parent class\n",
    "class Above:\n",
    "    i = 5\n",
    "    def fun1(self):\n",
    "        print(\"Hey there, you are in the parent class\")\n",
    "\n",
    "#subclass\n",
    "class Below(Above):\n",
    "    i=10\n",
    "    def fun2(self):\n",
    "        print(\"Hey there, you are in the sub class\")\n",
    "\n",
    "temp1=Below()\n",
    "temp2=Above()\n",
    "temp1.fun1()\n",
    "temp1.fun2()\n",
    "temp2.fun1()\n",
    "print(temp1.i)\n",
    "print(temp2.i)\n",
    "#temp2.fun2()"
   ]
  },
  {
   "cell_type": "code",
   "execution_count": 17,
   "id": "210ca3ac-d9fe-416c-adc7-c4dc22f2d58c",
   "metadata": {},
   "outputs": [
    {
     "name": "stdout",
     "output_type": "stream",
     "text": [
      "electric car runs on electricity\n",
      "a car has 4 wheels\n",
      "vehicles are used for transportation\n"
     ]
    }
   ],
   "source": [
    "#multi-level inheritance\n",
    "\n",
    "#parent class 1\n",
    "class vehicle:\n",
    "    def functioning(self):\n",
    "        print(\"vehicles are used for transportation\")\n",
    "\n",
    "#child class 1\n",
    "class car(vehicle):\n",
    "    def wheels(self):\n",
    "        print(\"a car has 4 wheels\")\n",
    "       \n",
    "#child class 2\n",
    "class electric_car(car):\n",
    "    def speciality(self):\n",
    "        print(\"electric car runs on electricity\")\n",
    "\n",
    "electric=electric_car()\n",
    "electric.speciality()\n",
    "electric.wheels()\n",
    "electric.functioning()"
   ]
  },
  {
   "cell_type": "code",
   "execution_count": 14,
   "id": "f5a89f5a-e504-4ad0-8918-1176daf1a9b9",
   "metadata": {},
   "outputs": [
    {
     "name": "stdout",
     "output_type": "stream",
     "text": [
      "Hey there, you are in the child class\n",
      "first number is :  10\n",
      "second number is :  5\n"
     ]
    }
   ],
   "source": [
    "#multiple inheritance\n",
    "\n",
    "#parent class 1\n",
    "class A:\n",
    "    demo1=0\n",
    "    def fun1(self):\n",
    "        print(self.demo1)\n",
    "\n",
    "#parent class 2\n",
    "class B:\n",
    "    demo2=0\n",
    "    def fun2(self):\n",
    "        print(self.demo2)\n",
    "\n",
    "#child class\n",
    "class C(A, B):\n",
    "    def fun3(self):\n",
    "        print(\"Hey there, you are in the child class\")\n",
    "\n",
    "# Main code\n",
    "c = C()\n",
    "c.demo1 = 10\n",
    "c.demo2 = 5\n",
    "c.fun3()\n",
    "print(\"first number is : \",c.demo1)\n",
    "print(\"second number is : \",c.demo2)"
   ]
  },
  {
   "cell_type": "code",
   "execution_count": null,
   "id": "a6a39ea3-a30a-4f05-908d-69e964c219ac",
   "metadata": {},
   "outputs": [],
   "source": []
  }
 ],
 "metadata": {
  "kernelspec": {
   "display_name": "Python 3 (ipykernel)",
   "language": "python",
   "name": "python3"
  },
  "language_info": {
   "codemirror_mode": {
    "name": "ipython",
    "version": 3
   },
   "file_extension": ".py",
   "mimetype": "text/x-python",
   "name": "python",
   "nbconvert_exporter": "python",
   "pygments_lexer": "ipython3",
   "version": "3.10.8"
  }
 },
 "nbformat": 4,
 "nbformat_minor": 5
}
